{
 "cells": [
  {
   "cell_type": "code",
   "execution_count": 15,
   "metadata": {},
   "outputs": [],
   "source": [
    "import requests\n",
    "from dotenv import load_dotenv\n",
    "import os\n",
    "from PIL import Image\n",
    "from io import BytesIO"
   ]
  },
  {
   "cell_type": "code",
   "execution_count": 18,
   "metadata": {},
   "outputs": [],
   "source": [
    "load_dotenv()\n",
    "\n",
    "API_KEY = os.environ[\"CLIPDROP_API_KEY\"]\n",
    "\n",
    "sample_no = 1\n",
    "image_path = f\"samples/sample_{sample_no}.jpeg\"\n",
    "output_path = f\"output/{os.path.basename(image_path)}\""
   ]
  },
  {
   "cell_type": "code",
   "execution_count": 19,
   "metadata": {},
   "outputs": [
    {
     "name": "stdout",
     "output_type": "stream",
     "text": [
      "Status: 200 | Remaining Credits: 95.5\n"
     ]
    }
   ],
   "source": [
    "with open(image_path, 'rb') as image_file:\n",
    "    res = requests.post('https://clipdrop-api.co/replace-background/v1', \n",
    "        files= {'image_file': (image_path, image_file, 'image/jpeg')},\n",
    "        data = {'prompt': 'shiny day, in beach and blue water in the background'},\n",
    "        headers = {'x-api-key': API_KEY}\n",
    "    )\n",
    "    print(f\"Status: {res.status_code} | Remaining Credits: {res.headers.get('x-remaining-credits')}\")"
   ]
  },
  {
   "cell_type": "code",
   "execution_count": 20,
   "metadata": {},
   "outputs": [],
   "source": [
    "if res.ok:\n",
    "    image_bytes = res.content\n",
    "    image_stream = BytesIO(image_bytes)\n",
    "    img = Image.open(image_stream)\n",
    "    img.save(output_path)\n",
    "else:\n",
    "    res.raise_for_status"
   ]
  },
  {
   "cell_type": "code",
   "execution_count": null,
   "metadata": {},
   "outputs": [],
   "source": []
  }
 ],
 "metadata": {
  "kernelspec": {
   "display_name": "clipdrop",
   "language": "python",
   "name": "python3"
  },
  "language_info": {
   "codemirror_mode": {
    "name": "ipython",
    "version": 3
   },
   "file_extension": ".py",
   "mimetype": "text/x-python",
   "name": "python",
   "nbconvert_exporter": "python",
   "pygments_lexer": "ipython3",
   "version": "3.11.4"
  },
  "orig_nbformat": 4
 },
 "nbformat": 4,
 "nbformat_minor": 2
}
